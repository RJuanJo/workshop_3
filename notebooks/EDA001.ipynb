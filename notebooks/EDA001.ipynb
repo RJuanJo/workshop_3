{
 "cells": [
  {
   "cell_type": "markdown",
   "metadata": {},
   "source": [
    "## Import Libraries"
   ]
  },
  {
   "cell_type": "code",
   "execution_count": 206,
   "metadata": {},
   "outputs": [],
   "source": [
    "import pandas as pd\n",
    "import numpy as np \n",
    "import seaborn as sns\n",
    "from sklearn.experimental import enable_iterative_imputer\n",
    "from sklearn.impute import IterativeImputer\n",
    "import matplotlib.pyplot as plt\n",
    "\n"
   ]
  },
  {
   "cell_type": "markdown",
   "metadata": {},
   "source": [
    "## Data Preparation"
   ]
  },
  {
   "cell_type": "code",
   "execution_count": 224,
   "metadata": {},
   "outputs": [],
   "source": [
    "df1 = pd.read_csv(\"../data/2015.csv\")\n",
    "df2 = pd.read_csv(\"../data/2016.csv\")\n",
    "df3 = pd.read_csv(\"../data/2017.csv\")\n",
    "df4 = pd.read_csv(\"../data/2018.csv\")\n",
    "df5 = pd.read_csv(\"../data/2019.csv\")"
   ]
  },
  {
   "cell_type": "code",
   "execution_count": 225,
   "metadata": {},
   "outputs": [
    {
     "name": "stdout",
     "output_type": "stream",
     "text": [
      "<class 'pandas.core.frame.DataFrame'>\n",
      "RangeIndex: 158 entries, 0 to 157\n",
      "Data columns (total 12 columns):\n",
      " #   Column                         Non-Null Count  Dtype  \n",
      "---  ------                         --------------  -----  \n",
      " 0   Country                        158 non-null    object \n",
      " 1   Region                         158 non-null    object \n",
      " 2   Happiness Rank                 158 non-null    int64  \n",
      " 3   Happiness Score                158 non-null    float64\n",
      " 4   Standard Error                 158 non-null    float64\n",
      " 5   Economy (GDP per Capita)       158 non-null    float64\n",
      " 6   Family                         158 non-null    float64\n",
      " 7   Health (Life Expectancy)       158 non-null    float64\n",
      " 8   Freedom                        158 non-null    float64\n",
      " 9   Trust (Government Corruption)  158 non-null    float64\n",
      " 10  Generosity                     158 non-null    float64\n",
      " 11  Dystopia Residual              158 non-null    float64\n",
      "dtypes: float64(9), int64(1), object(2)\n",
      "memory usage: 14.9+ KB\n"
     ]
    }
   ],
   "source": [
    "df1.info()"
   ]
  },
  {
   "cell_type": "code",
   "execution_count": 226,
   "metadata": {},
   "outputs": [
    {
     "name": "stdout",
     "output_type": "stream",
     "text": [
      "<class 'pandas.core.frame.DataFrame'>\n",
      "RangeIndex: 157 entries, 0 to 156\n",
      "Data columns (total 13 columns):\n",
      " #   Column                         Non-Null Count  Dtype  \n",
      "---  ------                         --------------  -----  \n",
      " 0   Country                        157 non-null    object \n",
      " 1   Region                         157 non-null    object \n",
      " 2   Happiness Rank                 157 non-null    int64  \n",
      " 3   Happiness Score                157 non-null    float64\n",
      " 4   Lower Confidence Interval      157 non-null    float64\n",
      " 5   Upper Confidence Interval      157 non-null    float64\n",
      " 6   Economy (GDP per Capita)       157 non-null    float64\n",
      " 7   Family                         157 non-null    float64\n",
      " 8   Health (Life Expectancy)       157 non-null    float64\n",
      " 9   Freedom                        157 non-null    float64\n",
      " 10  Trust (Government Corruption)  157 non-null    float64\n",
      " 11  Generosity                     157 non-null    float64\n",
      " 12  Dystopia Residual              157 non-null    float64\n",
      "dtypes: float64(10), int64(1), object(2)\n",
      "memory usage: 16.1+ KB\n"
     ]
    }
   ],
   "source": [
    "df2.info()"
   ]
  },
  {
   "cell_type": "code",
   "execution_count": 227,
   "metadata": {},
   "outputs": [
    {
     "name": "stdout",
     "output_type": "stream",
     "text": [
      "<class 'pandas.core.frame.DataFrame'>\n",
      "RangeIndex: 155 entries, 0 to 154\n",
      "Data columns (total 12 columns):\n",
      " #   Column                         Non-Null Count  Dtype  \n",
      "---  ------                         --------------  -----  \n",
      " 0   Country                        155 non-null    object \n",
      " 1   Happiness.Rank                 155 non-null    int64  \n",
      " 2   Happiness.Score                155 non-null    float64\n",
      " 3   Whisker.high                   155 non-null    float64\n",
      " 4   Whisker.low                    155 non-null    float64\n",
      " 5   Economy..GDP.per.Capita.       155 non-null    float64\n",
      " 6   Family                         155 non-null    float64\n",
      " 7   Health..Life.Expectancy.       155 non-null    float64\n",
      " 8   Freedom                        155 non-null    float64\n",
      " 9   Generosity                     155 non-null    float64\n",
      " 10  Trust..Government.Corruption.  155 non-null    float64\n",
      " 11  Dystopia.Residual              155 non-null    float64\n",
      "dtypes: float64(10), int64(1), object(1)\n",
      "memory usage: 14.7+ KB\n"
     ]
    }
   ],
   "source": [
    "df3.info()"
   ]
  },
  {
   "cell_type": "code",
   "execution_count": 228,
   "metadata": {},
   "outputs": [
    {
     "name": "stdout",
     "output_type": "stream",
     "text": [
      "<class 'pandas.core.frame.DataFrame'>\n",
      "RangeIndex: 156 entries, 0 to 155\n",
      "Data columns (total 9 columns):\n",
      " #   Column                        Non-Null Count  Dtype  \n",
      "---  ------                        --------------  -----  \n",
      " 0   Overall rank                  156 non-null    int64  \n",
      " 1   Country or region             156 non-null    object \n",
      " 2   Score                         156 non-null    float64\n",
      " 3   GDP per capita                156 non-null    float64\n",
      " 4   Social support                156 non-null    float64\n",
      " 5   Healthy life expectancy       156 non-null    float64\n",
      " 6   Freedom to make life choices  156 non-null    float64\n",
      " 7   Generosity                    156 non-null    float64\n",
      " 8   Perceptions of corruption     155 non-null    float64\n",
      "dtypes: float64(7), int64(1), object(1)\n",
      "memory usage: 11.1+ KB\n"
     ]
    }
   ],
   "source": [
    "df4.info()"
   ]
  },
  {
   "cell_type": "code",
   "execution_count": 229,
   "metadata": {},
   "outputs": [
    {
     "data": {
      "text/plain": [
       "0        Finland\n",
       "1         Norway\n",
       "2        Denmark\n",
       "3        Iceland\n",
       "4    Switzerland\n",
       "Name: Country or region, dtype: object"
      ]
     },
     "execution_count": 229,
     "metadata": {},
     "output_type": "execute_result"
    }
   ],
   "source": [
    "df4['Country or region'].head()"
   ]
  },
  {
   "cell_type": "code",
   "execution_count": 230,
   "metadata": {},
   "outputs": [
    {
     "name": "stdout",
     "output_type": "stream",
     "text": [
      "<class 'pandas.core.frame.DataFrame'>\n",
      "RangeIndex: 156 entries, 0 to 155\n",
      "Data columns (total 9 columns):\n",
      " #   Column                        Non-Null Count  Dtype  \n",
      "---  ------                        --------------  -----  \n",
      " 0   Overall rank                  156 non-null    int64  \n",
      " 1   Country or region             156 non-null    object \n",
      " 2   Score                         156 non-null    float64\n",
      " 3   GDP per capita                156 non-null    float64\n",
      " 4   Social support                156 non-null    float64\n",
      " 5   Healthy life expectancy       156 non-null    float64\n",
      " 6   Freedom to make life choices  156 non-null    float64\n",
      " 7   Generosity                    156 non-null    float64\n",
      " 8   Perceptions of corruption     156 non-null    float64\n",
      "dtypes: float64(7), int64(1), object(1)\n",
      "memory usage: 11.1+ KB\n"
     ]
    }
   ],
   "source": [
    "df5.info()"
   ]
  },
  {
   "cell_type": "code",
   "execution_count": 231,
   "metadata": {},
   "outputs": [
    {
     "data": {
      "text/plain": [
       "0        Finland\n",
       "1        Denmark\n",
       "2         Norway\n",
       "3        Iceland\n",
       "4    Netherlands\n",
       "Name: Country or region, dtype: object"
      ]
     },
     "execution_count": 231,
     "metadata": {},
     "output_type": "execute_result"
    }
   ],
   "source": [
    "df5['Country or region'].head()"
   ]
  },
  {
   "cell_type": "markdown",
   "metadata": {},
   "source": []
  },
  {
   "cell_type": "code",
   "execution_count": 232,
   "metadata": {},
   "outputs": [],
   "source": [
    "df1['Year'] = \"2015\"\n",
    "df2['Year'] = \"2016\"\n",
    "df3['Year'] = \"2017\"\n",
    "df4['Year'] = \"2018\"\n",
    "df5['Year'] = \"2019\"\n",
    "\n",
    "df1.rename(columns={\n",
    "    'Happiness Rank': 'Happiness_Rank',\n",
    "    'Happiness Score': 'Happiness_Score',\n",
    "    'Economy (GDP per Capita)': 'Economy_GDP_per_Capita',\n",
    "    'Health (Life Expectancy)': 'Health_Life_Expectancy',\n",
    "    'Trust (Government Corruption)': 'Trust_Government_Corruption',\n",
    "    'Dystopia Residual': 'Dystopia_Residual'\n",
    "}, inplace=True)\n",
    "\n",
    "df2.rename(columns={\n",
    "    'Happiness Rank': 'Happiness_Rank',\n",
    "    'Happiness Score': 'Happiness_Score',\n",
    "    'Lower Confidence Interval': 'Lower_Confidence_Interval',\n",
    "    'Upper Confidence Interval': 'Upper_Confidence_Interval',\n",
    "    'Economy (GDP per Capita)': 'Economy_GDP_per_Capita',\n",
    "    'Health (Life Expectancy)': 'Health_Life_Expectancy',\n",
    "    'Trust (Government Corruption)': 'Trust_Government_Corruption',\n",
    "    'Dystopia Residual': 'Dystopia_Residual'\n",
    "}, inplace=True)\n",
    "\n",
    "df3.rename(columns={\n",
    "    'Happiness.Rank': 'Happiness_Rank',\n",
    "    'Happiness.Score': 'Happiness_Score',\n",
    "    'Whisker.high': 'Upper_Confidence_Interval',\n",
    "    'Whisker.low': 'Lower_Confidence_Interval',\n",
    "    'Economy..GDP.per.Capita.': 'Economy_GDP_per_Capita',\n",
    "    'Health..Life.Expectancy.': 'Health_Life_Expectancy',\n",
    "    'Trust..Government.Corruption.': 'Trust_Government_Corruption',\n",
    "    'Dystopia.Residual': 'Dystopia_Residual'\n",
    "}, inplace=True)\n",
    "\n",
    "df4.rename(columns={\n",
    "    'Overall rank': 'Happiness_Rank',\n",
    "    'Country or region': 'Country',\n",
    "    'Score': 'Happiness_Score',\n",
    "    'GDP per capita': 'Economy_GDP_per_Capita',\n",
    "    'Social support': 'Family',\n",
    "    'Healthy life expectancy': 'Health_Life_Expectancy',\n",
    "    'Freedom to make life choices': 'Freedom',\n",
    "    'Perceptions of corruption': 'Trust_Government_Corruption'\n",
    "}, inplace=True)\n",
    "\n",
    "df5.rename(columns={\n",
    "    'Overall rank': 'Happiness_Rank',\n",
    "    'Country or region': 'Country',\n",
    "    'Score': 'Happiness_Score',\n",
    "    'GDP per capita': 'Economy_GDP_per_Capita',\n",
    "    'Social support': 'Family',\n",
    "    'Healthy life expectancy': 'Health_Life_Expectancy',\n",
    "    'Freedom to make life choices': 'Freedom',\n",
    "    'Perceptions of corruption': 'Trust_Government_Corruption'\n",
    "}, inplace=True)\n",
    "\n",
    "dfs = [df1, df2, df3, df4, df5]\n",
    "data = pd.concat(dfs, ignore_index=True)\n"
   ]
  },
  {
   "cell_type": "code",
   "execution_count": 235,
   "metadata": {},
   "outputs": [
    {
     "data": {
      "text/html": [
       "<div>\n",
       "<style scoped>\n",
       "    .dataframe tbody tr th:only-of-type {\n",
       "        vertical-align: middle;\n",
       "    }\n",
       "\n",
       "    .dataframe tbody tr th {\n",
       "        vertical-align: top;\n",
       "    }\n",
       "\n",
       "    .dataframe thead th {\n",
       "        text-align: right;\n",
       "    }\n",
       "</style>\n",
       "<table border=\"1\" class=\"dataframe\">\n",
       "  <thead>\n",
       "    <tr style=\"text-align: right;\">\n",
       "      <th></th>\n",
       "      <th>Country</th>\n",
       "      <th>Region</th>\n",
       "      <th>Happiness_Rank</th>\n",
       "      <th>Happiness_Score</th>\n",
       "      <th>Standard Error</th>\n",
       "      <th>Economy_GDP_per_Capita</th>\n",
       "      <th>Family</th>\n",
       "      <th>Health_Life_Expectancy</th>\n",
       "      <th>Freedom</th>\n",
       "      <th>Trust_Government_Corruption</th>\n",
       "      <th>Generosity</th>\n",
       "      <th>Dystopia_Residual</th>\n",
       "      <th>Year</th>\n",
       "      <th>Lower_Confidence_Interval</th>\n",
       "      <th>Upper_Confidence_Interval</th>\n",
       "    </tr>\n",
       "  </thead>\n",
       "  <tbody>\n",
       "    <tr>\n",
       "      <th>0</th>\n",
       "      <td>Switzerland</td>\n",
       "      <td>Western Europe</td>\n",
       "      <td>1</td>\n",
       "      <td>7.587</td>\n",
       "      <td>0.03411</td>\n",
       "      <td>1.39651</td>\n",
       "      <td>1.34951</td>\n",
       "      <td>0.94143</td>\n",
       "      <td>0.66557</td>\n",
       "      <td>0.41978</td>\n",
       "      <td>0.29678</td>\n",
       "      <td>2.51738</td>\n",
       "      <td>2015</td>\n",
       "      <td>NaN</td>\n",
       "      <td>NaN</td>\n",
       "    </tr>\n",
       "    <tr>\n",
       "      <th>1</th>\n",
       "      <td>Iceland</td>\n",
       "      <td>Western Europe</td>\n",
       "      <td>2</td>\n",
       "      <td>7.561</td>\n",
       "      <td>0.04884</td>\n",
       "      <td>1.30232</td>\n",
       "      <td>1.40223</td>\n",
       "      <td>0.94784</td>\n",
       "      <td>0.62877</td>\n",
       "      <td>0.14145</td>\n",
       "      <td>0.43630</td>\n",
       "      <td>2.70201</td>\n",
       "      <td>2015</td>\n",
       "      <td>NaN</td>\n",
       "      <td>NaN</td>\n",
       "    </tr>\n",
       "    <tr>\n",
       "      <th>2</th>\n",
       "      <td>Denmark</td>\n",
       "      <td>Western Europe</td>\n",
       "      <td>3</td>\n",
       "      <td>7.527</td>\n",
       "      <td>0.03328</td>\n",
       "      <td>1.32548</td>\n",
       "      <td>1.36058</td>\n",
       "      <td>0.87464</td>\n",
       "      <td>0.64938</td>\n",
       "      <td>0.48357</td>\n",
       "      <td>0.34139</td>\n",
       "      <td>2.49204</td>\n",
       "      <td>2015</td>\n",
       "      <td>NaN</td>\n",
       "      <td>NaN</td>\n",
       "    </tr>\n",
       "    <tr>\n",
       "      <th>3</th>\n",
       "      <td>Norway</td>\n",
       "      <td>Western Europe</td>\n",
       "      <td>4</td>\n",
       "      <td>7.522</td>\n",
       "      <td>0.03880</td>\n",
       "      <td>1.45900</td>\n",
       "      <td>1.33095</td>\n",
       "      <td>0.88521</td>\n",
       "      <td>0.66973</td>\n",
       "      <td>0.36503</td>\n",
       "      <td>0.34699</td>\n",
       "      <td>2.46531</td>\n",
       "      <td>2015</td>\n",
       "      <td>NaN</td>\n",
       "      <td>NaN</td>\n",
       "    </tr>\n",
       "    <tr>\n",
       "      <th>4</th>\n",
       "      <td>Canada</td>\n",
       "      <td>North America</td>\n",
       "      <td>5</td>\n",
       "      <td>7.427</td>\n",
       "      <td>0.03553</td>\n",
       "      <td>1.32629</td>\n",
       "      <td>1.32261</td>\n",
       "      <td>0.90563</td>\n",
       "      <td>0.63297</td>\n",
       "      <td>0.32957</td>\n",
       "      <td>0.45811</td>\n",
       "      <td>2.45176</td>\n",
       "      <td>2015</td>\n",
       "      <td>NaN</td>\n",
       "      <td>NaN</td>\n",
       "    </tr>\n",
       "  </tbody>\n",
       "</table>\n",
       "</div>"
      ],
      "text/plain": [
       "       Country          Region  Happiness_Rank  Happiness_Score  \\\n",
       "0  Switzerland  Western Europe               1            7.587   \n",
       "1      Iceland  Western Europe               2            7.561   \n",
       "2      Denmark  Western Europe               3            7.527   \n",
       "3       Norway  Western Europe               4            7.522   \n",
       "4       Canada   North America               5            7.427   \n",
       "\n",
       "   Standard Error  Economy_GDP_per_Capita   Family  Health_Life_Expectancy  \\\n",
       "0         0.03411                 1.39651  1.34951                 0.94143   \n",
       "1         0.04884                 1.30232  1.40223                 0.94784   \n",
       "2         0.03328                 1.32548  1.36058                 0.87464   \n",
       "3         0.03880                 1.45900  1.33095                 0.88521   \n",
       "4         0.03553                 1.32629  1.32261                 0.90563   \n",
       "\n",
       "   Freedom  Trust_Government_Corruption  Generosity  Dystopia_Residual  Year  \\\n",
       "0  0.66557                      0.41978     0.29678            2.51738  2015   \n",
       "1  0.62877                      0.14145     0.43630            2.70201  2015   \n",
       "2  0.64938                      0.48357     0.34139            2.49204  2015   \n",
       "3  0.66973                      0.36503     0.34699            2.46531  2015   \n",
       "4  0.63297                      0.32957     0.45811            2.45176  2015   \n",
       "\n",
       "   Lower_Confidence_Interval  Upper_Confidence_Interval  \n",
       "0                        NaN                        NaN  \n",
       "1                        NaN                        NaN  \n",
       "2                        NaN                        NaN  \n",
       "3                        NaN                        NaN  \n",
       "4                        NaN                        NaN  "
      ]
     },
     "execution_count": 235,
     "metadata": {},
     "output_type": "execute_result"
    }
   ],
   "source": [
    "data.head()"
   ]
  },
  {
   "cell_type": "markdown",
   "metadata": {},
   "source": [
    "## EDA"
   ]
  },
  {
   "cell_type": "code",
   "execution_count": 218,
   "metadata": {},
   "outputs": [
    {
     "name": "stdout",
     "output_type": "stream",
     "text": [
      "Country                         0.000000\n",
      "Region                         59.718670\n",
      "Happiness_Rank                  0.000000\n",
      "Happiness_Score                 0.000000\n",
      "Standard Error                 79.795396\n",
      "Economy_GDP_per_Capita          0.000000\n",
      "Family                          0.000000\n",
      "Health_Life_Expectancy          0.000000\n",
      "Freedom                         0.000000\n",
      "Trust_Government_Corruption     0.127877\n",
      "Generosity                      0.000000\n",
      "Dystopia_Residual              39.897698\n",
      "Year                            0.000000\n",
      "Lower_Confidence_Interval      60.102302\n",
      "Upper_Confidence_Interval      60.102302\n",
      "dtype: float64\n"
     ]
    }
   ],
   "source": [
    "null_percentage = data.isnull().mean() * 100\n",
    "print(null_percentage)"
   ]
  },
  {
   "cell_type": "markdown",
   "metadata": {},
   "source": [
    "### NAs Handling"
   ]
  },
  {
   "cell_type": "code",
   "execution_count": 219,
   "metadata": {},
   "outputs": [
    {
     "name": "stdout",
     "output_type": "stream",
     "text": [
      "Country                          0\n",
      "Region                         467\n",
      "Happiness_Rank                   0\n",
      "Happiness_Score                  0\n",
      "Standard Error                   0\n",
      "Economy_GDP_per_Capita           0\n",
      "Family                           0\n",
      "Health_Life_Expectancy           0\n",
      "Freedom                          0\n",
      "Trust_Government_Corruption      0\n",
      "Generosity                       0\n",
      "Dystopia_Residual                0\n",
      "Year                             0\n",
      "Lower_Confidence_Interval        0\n",
      "Upper_Confidence_Interval        0\n",
      "dtype: int64\n"
     ]
    }
   ],
   "source": [
    "numeric_columns = data.select_dtypes(include=[np.number]).columns\n",
    "\n",
    "imputer = IterativeImputer(max_iter=10, random_state=42)\n",
    "\n",
    "data_imputed = imputer.fit_transform(data[numeric_columns])\n",
    "data_imputed_df = pd.DataFrame(data_imputed, columns=numeric_columns)\n",
    "data[numeric_columns] = data_imputed_df\n",
    "\n",
    "print(data.isnull().sum())"
   ]
  },
  {
   "cell_type": "code",
   "execution_count": 221,
   "metadata": {},
   "outputs": [
    {
     "name": "stdout",
     "output_type": "stream",
     "text": [
      "['Switzerland' 'Iceland' 'Denmark' 'Norway' 'Canada' 'Finland'\n",
      " 'Netherlands' 'Sweden' 'New Zealand' 'Australia' 'Israel' 'Costa Rica'\n",
      " 'Austria' 'Mexico' 'United States' 'Brazil' 'Luxembourg' 'Ireland'\n",
      " 'Belgium' 'United Arab Emirates' 'United Kingdom' 'Oman' 'Venezuela'\n",
      " 'Singapore' 'Panama' 'Germany' 'Chile' 'Qatar' 'France' 'Argentina'\n",
      " 'Czech Republic' 'Uruguay' 'Colombia' 'Thailand' 'Saudi Arabia' 'Spain'\n",
      " 'Malta' 'Taiwan' 'Kuwait' 'Suriname' 'Trinidad and Tobago' 'El Salvador'\n",
      " 'Guatemala' 'Uzbekistan' 'Slovakia' 'Japan' 'South Korea' 'Ecuador'\n",
      " 'Bahrain' 'Italy' 'Bolivia' 'Moldova' 'Paraguay' 'Kazakhstan' 'Slovenia'\n",
      " 'Lithuania' 'Nicaragua' 'Peru' 'Belarus' 'Poland' 'Malaysia' 'Croatia'\n",
      " 'Libya' 'Russia' 'Jamaica' 'North Cyprus' 'Cyprus' 'Algeria' 'Kosovo'\n",
      " 'Turkmenistan' 'Mauritius' 'Hong Kong' 'Estonia' 'Indonesia' 'Vietnam'\n",
      " 'Turkey' 'Kyrgyzstan' 'Nigeria' 'Bhutan' 'Azerbaijan' 'Pakistan' 'Jordan'\n",
      " 'Montenegro' 'China' 'Zambia' 'Romania' 'Serbia' 'Portugal' 'Latvia'\n",
      " 'Philippines' 'Somaliland region' 'Morocco' 'Macedonia' 'Mozambique'\n",
      " 'Albania' 'Bosnia and Herzegovina' 'Lesotho' 'Dominican Republic' 'Laos'\n",
      " 'Mongolia' 'Swaziland' 'Greece' 'Lebanon' 'Hungary' 'Honduras'\n",
      " 'Tajikistan' 'Tunisia' 'Palestinian Territories' 'Bangladesh' 'Iran'\n",
      " 'Ukraine' 'Iraq' 'South Africa' 'Ghana' 'Zimbabwe' 'Liberia' 'India'\n",
      " 'Sudan' 'Haiti' 'Congo (Kinshasa)' 'Nepal' 'Ethiopia' 'Sierra Leone'\n",
      " 'Mauritania' 'Kenya' 'Djibouti' 'Armenia' 'Botswana' 'Myanmar' 'Georgia'\n",
      " 'Malawi' 'Sri Lanka' 'Cameroon' 'Bulgaria' 'Egypt' 'Yemen' 'Angola'\n",
      " 'Mali' 'Congo (Brazzaville)' 'Comoros' 'Uganda' 'Senegal' 'Gabon' 'Niger'\n",
      " 'Cambodia' 'Tanzania' 'Madagascar' 'Central African Republic' 'Chad'\n",
      " 'Guinea' 'Ivory Coast' 'Burkina Faso' 'Afghanistan' 'Rwanda' 'Benin'\n",
      " 'Syria' 'Burundi' 'Togo' 'Puerto Rico' 'Belize' 'Somalia'\n",
      " 'Somaliland Region' 'Namibia' 'South Sudan' 'Taiwan Province of China'\n",
      " 'Hong Kong S.A.R., China' 'Trinidad & Tobago' 'Northern Cyprus'\n",
      " 'North Macedonia' 'Gambia']\n"
     ]
    }
   ],
   "source": [
    "unique_countries = data['Country'].unique()\n",
    "print(unique_countries)"
   ]
  },
  {
   "cell_type": "code",
   "execution_count": 222,
   "metadata": {},
   "outputs": [
    {
     "data": {
      "text/html": [
       "<div>\n",
       "<style scoped>\n",
       "    .dataframe tbody tr th:only-of-type {\n",
       "        vertical-align: middle;\n",
       "    }\n",
       "\n",
       "    .dataframe tbody tr th {\n",
       "        vertical-align: top;\n",
       "    }\n",
       "\n",
       "    .dataframe thead th {\n",
       "        text-align: right;\n",
       "    }\n",
       "</style>\n",
       "<table border=\"1\" class=\"dataframe\">\n",
       "  <thead>\n",
       "    <tr style=\"text-align: right;\">\n",
       "      <th></th>\n",
       "      <th>Country</th>\n",
       "      <th>Region</th>\n",
       "    </tr>\n",
       "  </thead>\n",
       "  <tbody>\n",
       "    <tr>\n",
       "      <th>0</th>\n",
       "      <td>Switzerland</td>\n",
       "      <td>Western Europe</td>\n",
       "    </tr>\n",
       "    <tr>\n",
       "      <th>1</th>\n",
       "      <td>Iceland</td>\n",
       "      <td>Western Europe</td>\n",
       "    </tr>\n",
       "    <tr>\n",
       "      <th>2</th>\n",
       "      <td>Denmark</td>\n",
       "      <td>Western Europe</td>\n",
       "    </tr>\n",
       "    <tr>\n",
       "      <th>3</th>\n",
       "      <td>Norway</td>\n",
       "      <td>Western Europe</td>\n",
       "    </tr>\n",
       "    <tr>\n",
       "      <th>4</th>\n",
       "      <td>Canada</td>\n",
       "      <td>North America</td>\n",
       "    </tr>\n",
       "    <tr>\n",
       "      <th>...</th>\n",
       "      <td>...</td>\n",
       "      <td>...</td>\n",
       "    </tr>\n",
       "    <tr>\n",
       "      <th>777</th>\n",
       "      <td>Rwanda</td>\n",
       "      <td>NaN</td>\n",
       "    </tr>\n",
       "    <tr>\n",
       "      <th>778</th>\n",
       "      <td>Tanzania</td>\n",
       "      <td>NaN</td>\n",
       "    </tr>\n",
       "    <tr>\n",
       "      <th>779</th>\n",
       "      <td>Afghanistan</td>\n",
       "      <td>NaN</td>\n",
       "    </tr>\n",
       "    <tr>\n",
       "      <th>780</th>\n",
       "      <td>Central African Republic</td>\n",
       "      <td>NaN</td>\n",
       "    </tr>\n",
       "    <tr>\n",
       "      <th>781</th>\n",
       "      <td>South Sudan</td>\n",
       "      <td>NaN</td>\n",
       "    </tr>\n",
       "  </tbody>\n",
       "</table>\n",
       "<p>782 rows × 2 columns</p>\n",
       "</div>"
      ],
      "text/plain": [
       "                      Country          Region\n",
       "0                 Switzerland  Western Europe\n",
       "1                     Iceland  Western Europe\n",
       "2                     Denmark  Western Europe\n",
       "3                      Norway  Western Europe\n",
       "4                      Canada   North America\n",
       "..                        ...             ...\n",
       "777                    Rwanda             NaN\n",
       "778                  Tanzania             NaN\n",
       "779               Afghanistan             NaN\n",
       "780  Central African Republic             NaN\n",
       "781               South Sudan             NaN\n",
       "\n",
       "[782 rows x 2 columns]"
      ]
     },
     "execution_count": 222,
     "metadata": {},
     "output_type": "execute_result"
    }
   ],
   "source": [
    "selected_columns = data[['Country', 'Region']]\n",
    "selected_columns.head(1000)"
   ]
  },
  {
   "cell_type": "code",
   "execution_count": 223,
   "metadata": {},
   "outputs": [
    {
     "name": "stdout",
     "output_type": "stream",
     "text": [
      "Country                        0\n",
      "Region                         0\n",
      "Happiness_Rank                 0\n",
      "Happiness_Score                0\n",
      "Standard Error                 0\n",
      "Economy_GDP_per_Capita         0\n",
      "Family                         0\n",
      "Health_Life_Expectancy         0\n",
      "Freedom                        0\n",
      "Trust_Government_Corruption    0\n",
      "Generosity                     0\n",
      "Dystopia_Residual              0\n",
      "Year                           0\n",
      "Lower_Confidence_Interval      0\n",
      "Upper_Confidence_Interval      0\n",
      "dtype: int64\n"
     ]
    }
   ],
   "source": [
    "region_countries = {\n",
    "    # North Aerica\n",
    "    'North America': ['Canada', 'United States'],\n",
    "    \n",
    "    # Australia\n",
    "    'Australia and New Zealand': ['New Zealand', 'Australia'],\n",
    "    \n",
    "    # South America\n",
    "    'Latin America and Caribbean': ['Costa Rica', 'Mexico', 'Brazil', 'Panama', 'Chile', 'Argentina', 'Uruguay', \n",
    "        'Colombia', 'Trinidad and Tobago', 'Trinidad & Tobago', 'El Salvador', 'Guatemala', 'Suriname', 'Jamaica', 'Dominican Republic', \n",
    "        'Nicaragua', 'Ecuador', 'Bolivia', 'Peru', 'Paraguay', 'Venezuela', 'Honduras', 'Haiti', 'Guatemala', 'Belize', \n",
    "        'Cuba', 'Puerto Rico'],\n",
    "    \n",
    "    #Europe\n",
    "    'Europe' : ['Northern Cyprus', 'North Macedonia', 'North Cyprus'],\n",
    "    'Central and Eastern Europe': ['Czech Republic', 'Slovakia', 'Poland', 'Hungary', 'Slovenia', 'Croatia', 'Bosnia and Herzegovina', \n",
    "        'Estonia', 'Lithuania', 'Latvia', 'Romania', 'Bulgaria', 'Serbia', 'Montenegro', 'Macedonia', 'Albania', 'Kosovo', 'Ukraine', \n",
    "        'Belarus', 'Moldova', 'Russia'],\n",
    "    'Western Europe': ['Switzerland', 'Iceland', 'Denmark', 'Norway', 'Finland', 'Netherlands', 'Sweden', \n",
    "    'Luxembourg', 'Ireland', 'Belgium', 'United Kingdom', 'Austria', 'Germany', 'France', 'Malta', 'Spain', \n",
    "    'Italy', 'Cyprus', 'Portugal', 'Greece'],\n",
    "    \n",
    "    # Asia\n",
    "    'Central Asia' : ['Uzbekistan', 'Kazakhstan', 'Turkmenistan', 'Kyrgyzstan', 'Tajikistan'],\n",
    "    'South Asia' : ['Bhutan', 'Bangladesh', 'India', 'Nepal', 'Pakistan', 'Sri Lanka'],\n",
    "    'Eastern Asia': ['Taiwan', 'Japan', 'South Korea', 'Hong Kong', 'Mongolia', 'China'],\n",
    "    'Southeastern Asia': ['Singapore', 'Thailand', 'Vietnam', 'Malaysia', 'Indonesia', 'Philippines', 'Laos', 'Myanmar', 'Cambodia'],\n",
    "    'Caucasus and Central Asia': ['Azerbaijan', 'Georgia'],\n",
    "    'East Asia': ['Taiwan Province of China', 'Hong Kong S.A.R., China'],\n",
    "    \n",
    "    # Africa\n",
    "    'Western Africa' : ['Ghana', 'Ivory Coast', 'Guinea'],\n",
    "    'Eastern Africa' : ['Djibouti', 'Comoros'],\n",
    "    'Sub-Saharan Africa': ['Mauritius', 'Nigeria', 'Somaliland region', 'Kenya', 'Zambia', 'Zimbabwe', 'Liberia', 'Namibia', 'Somalia', 'South Africa', \n",
    "        'Niger', 'Congo (Kinshasa)', 'Uganda', 'Mozambique', 'Senegal', 'Gabon', 'Tanzania', \n",
    "        'Madagascar', 'Central African Republic', 'Chad', 'Ethiopia', 'Mauritania', 'Malawi', \n",
    "        'Sierra Leone', 'Congo (Brazzaville)', 'Armenia', 'Botswana', 'Mali', 'Angola', 'Benin', \n",
    "        'Mauritania', 'Burkina Faso', 'Rwanda', 'Togo', 'Burundi', 'South Sudan', 'Gambia'],\n",
    "    'Northern Africa and Middle East' : ['Egypt', 'Sudan'],\n",
    "    'East Africa' : ['Somaliland Region'],\n",
    "    'Middle East and Northern Africa': ['Israel', 'Cameroon', 'United Arab Emirates', 'Oman', 'Saudi Arabia', 'Kuwait', 'Bahrain', 'Qatar', \n",
    "        'Libya', 'Jordan', 'Lebanon', 'Tunisia', 'Turkey', 'Algeria', 'Morocco', 'Iran', 'Iraq', \n",
    "        'Palestinian Territories', 'Yemen', 'Syria', 'Afghanistan'],\n",
    "    'Southern Africa' : ['Lesotho','Swaziland']\n",
    "}\n",
    "country_region_mapping = {country: region for region, countries in region_countries.items() for country in countries}\n",
    "\n",
    "data['Region'] = data['Country'].map(country_region_mapping)\n",
    "print(data.isnull().sum())"
   ]
  }
 ],
 "metadata": {
  "kernelspec": {
   "display_name": ".venv",
   "language": "python",
   "name": "python3"
  },
  "language_info": {
   "codemirror_mode": {
    "name": "ipython",
    "version": 3
   },
   "file_extension": ".py",
   "mimetype": "text/x-python",
   "name": "python",
   "nbconvert_exporter": "python",
   "pygments_lexer": "ipython3",
   "version": "3.11.9"
  }
 },
 "nbformat": 4,
 "nbformat_minor": 2
}
